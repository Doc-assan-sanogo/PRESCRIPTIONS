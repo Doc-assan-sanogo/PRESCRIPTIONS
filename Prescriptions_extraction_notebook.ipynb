{
 "cells": [
  {
   "cell_type": "code",
   "execution_count": 91,
   "metadata": {},
   "outputs": [],
   "source": [
    "from __future__ import print_function\n",
    "\n",
    "import psycopg2\n",
    "import datetime\n",
    "import sys\n",
    "from operator import itemgetter, attrgetter, methodcaller\n",
    "import numpy as np\n",
    "import itertools\n",
    "import os.path\n",
    "import matplotlib.pyplot as plt\n",
    "import math\n",
    "from multiprocessing import Pool, cpu_count\n",
    "import re\n",
    "import traceback\n",
    "import shutil\n",
    "from collections import OrderedDict\n",
    "\n",
    "from utils import getConnection\n",
    "from utils import parseUnitsMap\n",
    "from utils import parseNum\n",
    "from utils import sparsify\n",
    "\n",
    "from tqdm.notebook import tqdm as tqdm\n",
    "import pandas as pd\n",
    "import os\n",
    "import glob2"
   ]
  },
  {
   "cell_type": "code",
   "execution_count": 107,
   "metadata": {},
   "outputs": [],
   "source": [
    "res =[]\n",
    "with open(\"/FEMTODX/Benchmarking_DL_MIMICIII/Codes/mimic3_mvcv/config/columns_names.txt\",\"r\") as f:\n",
    "    res = f.readlines()"
   ]
  },
  {
   "cell_type": "code",
   "execution_count": 104,
   "metadata": {},
   "outputs": [
    {
     "data": {
      "text/plain": [
       "'gcsverbal_723, 223900'"
      ]
     },
     "execution_count": 104,
     "metadata": {},
     "output_type": "execute_result"
    }
   ],
   "source": [
    "[el.replace(\"\\n\",\"\").replace(\"'\",'').replace(\"\"\"\\\"\"\"\",\"\") for el in res][1]"
   ]
  },
  {
   "cell_type": "code",
   "execution_count": 109,
   "metadata": {},
   "outputs": [
    {
     "data": {
      "application/vnd.jupyter.widget-view+json": {
       "model_id": "3a1b8346365d465bb986cd67d0d2598b"
      }
     },
     "metadata": {},
     "output_type": "display_data"
    },
    {
     "name": "stdout",
     "output_type": "stream",
     "text": [
      "['Tidal,Volume,(observed)_682,224685,']\n",
      "\n"
     ]
    }
   ],
   "source": [
    "\n",
    "for f_name in tqdm(glob2.glob(\"/FEMTODX/Benchmarking_DL_MIMICIII/Codes/mimic3_mvcv/exports-08-05/adm-*.csv\")):\n",
    "    #print(f_name)\n",
    "    relative_filename = f_name.split(\"/\")[-1]\n",
    "    df = pd.read_csv(f_name, sep=';')\n",
    "    df = df.replace(0,np.nan)\n",
    "    print([col for col in df.columns if '682,224685' in col ])\n",
    "\n",
    "\n",
    "    #final processing of associated columns\n",
    "    #old code\n",
    "    #df[\"temperature\"] = (2*df['body_temperature_1'] + 2*df['body_temperature_2'])/4\n",
    "    #df[\"weight\"] = (5*df['weight_1'] + 1*df['weight_2'] + 1*df[\"weight_3\"])/7\n",
    "    #df[\"height\"] = (4*df['height_1'] + 3*df['height_2'])/7\n",
    "    #df[\"ie_ratio\"] = (df['ie_ratio_1'] + df['ie_ratio_2'])/2\n",
    "    #print(df.columns)\n",
    "    #print([col for col in df.columns if 'temperature' in col])\n",
    "\n",
    "    df[\"temperature\"] = df[['body_temperature_1_678,223761', 'body_temperature_2_676,223762']].mean()\n",
    "    df[\"weight\"] = df[['weight_1_762, 763, 3723, 3580, 226512', 'weight_2_3581', 'weight_3_3582']].mean()\n",
    "    df[\"height\"] = df[['height_1_920, 1394, 4187, 3486', 'height_2_3485, 4188, 226707']].mean()\n",
    "    df[\"ie_ratio\"] = df[['ie_ratio_1_221', 'ie_ratio_2_226873, 226871']].mean()\n",
    "    \n",
    "    df['potassium_level_50822, 50971'] = df[['POTASSIUM, WHOLE BLOOD_50822','POTASSIUM_50971']].mean()\n",
    "    df['sodium_level_50824, 50983'] = df[['SODIUM, WHOLE BLOOD_50824','SODIUM_50983']].mean()\n",
    "    df['white_blood_cells_count_51300, 51301'] = df[['WBC COUNT_51300','WHITE BLOOD CELLS_51301']].mean()\n",
    "    df['hgb_50811, 51222'] = df[['HEMOGLOBIN_50811','HEMOGLOBIN_51222']].mean()\n",
    "    df['chloride_50806, 50902']=  df[['CHLORIDE, WHOLE BLOOD_50806','CHLORIDE_50902']].mean()\n",
    "    df[[el.replace(\"\\n\",\"\").replace(\"'\",'').replace(\"\"\"\\\"\"\"\",\"\") for el in res]]\n",
    "    break"
   ]
  },
  {
   "cell_type": "code",
   "execution_count": 89,
   "metadata": {},
   "outputs": [
    {
     "data": {
      "text/plain": [
       "['timestamps_offset_to_the_hour',\n",
       " '\"gcsverbal_723, 223900\"',\n",
       " '\"gcsmotor_454, 223901\"',\n",
       " '\"gcseyes_184, 220739\"',\n",
       " '\"systolic_blood_pressure_51, 442, 455, 6701, 220050, 220179\"',\n",
       " '\"heart_rate_211, 220045\"',\n",
       " 'pao2_50821',\n",
       " '\"fio2_50816, 223835,3420, 3422, 190\"',\n",
       " '\"diastolic_blood_pressure_8368, 8440, 8441, 8555, 220180, 220051\"',\n",
       " '\"arterial_pressure_456, 52, 6702, 443, 220052, 220181, 225312\"',\n",
       " '\"respiratory_rate_618, 615, 220210, 224690\"',\n",
       " '\"spo2_peripheral_646, 220277\"',\n",
       " '\"glucose_807,811, 1529, 3745, 3744, 225664, 220621, 226537\"',\n",
       " 'temperature',\n",
       " 'ie_ratio',\n",
       " 'weight',\n",
       " 'height',\n",
       " '\"urinary_output_40055,43175,40069,40094,40715,40473,40085,40057,40056,40405,40428,40086,40096,40651,226559,226560,226561,226584,226563,226564,226565,226567,226557,226558,227488,227489\"',\n",
       " '\"norepinephrine_30047, 30120, 221906\"',\n",
       " '\"epinephrine_30044,30119,30309,221289\"',\n",
       " '\"phenylephrine_30127,30128,221749\"',\n",
       " '\"vasopressin_30051,222315\"',\n",
       " '\"dopamine_30043,30307,221662\"',\n",
       " '\"isuprel_30046,227692\"',\n",
       " '\"midazolam_30124, 221668\"',\n",
       " '\"fentanyl_30150, 30308, 30118, 30149, 221744, 225972, 225942\"',\n",
       " '\"propofol_30131, 222168\"',\n",
       " '\"white_blood_cells_count_51300, 51301\"',\n",
       " '\"sodium_level_50824, 50983\"',\n",
       " '\"potassium_level_50822, 50971\"',\n",
       " '\"hgb_50811, 51222\"',\n",
       " '\"chloride_50806, 50902\"',\n",
       " 'HEMATOCRIT_51221',\n",
       " 'PT_51274',\n",
       " 'PTT_51275',\n",
       " 'ALBUMIN_50862',\n",
       " 'BLASTS_51346',\n",
       " 'EOSINOPHILS_51347',\n",
       " 'HEMATOCRIT, CSF_51348',\n",
       " 'HYPERSEGMENTED NEUTROPHILS_51349',\n",
       " 'IMMUNOPHENOTYPING_51350',\n",
       " 'LYMPHS_51351',\n",
       " 'MACROPHAGE_51352',\n",
       " 'MESOTHELIAL CELLS_51353',\n",
       " 'METAMYELOCYTES_51354',\n",
       " 'MONOCYTES_51355',\n",
       " 'MYELOCYTES_51356',\n",
       " 'NRBC_51357',\n",
       " 'OTHER_51358',\n",
       " 'PLASMA_51359',\n",
       " 'POLYS_51360',\n",
       " 'PROMYELOCYTES_51361',\n",
       " 'RBC, CSF_51362',\n",
       " 'WBC, CSF_51363',\n",
       " 'YOUNG_51364',\n",
       " 'ATYPICAL LYMPHOCYTES_51365',\n",
       " 'BANDS_51366',\n",
       " 'BASOPHILS_51367',\n",
       " 'EOSINOPHILS_51368',\n",
       " 'HEMATOCRIT, JOINT FLUID_51369',\n",
       " 'JOINT CRYSTALS, BIREFRINGENCE_51370',\n",
       " 'JOINT CRYSTALS, COMMENT_51371',\n",
       " 'JOINT CRYSTALS, LOCATION_51372',\n",
       " 'JOINT CRYSTALS, NUMBER_51373',\n",
       " 'JOINT CRYSTALS, SHAPE_51374',\n",
       " 'LYMPHOCYTES_51375',\n",
       " 'MACROPHAGE_51376',\n",
       " 'MESOTHELIAL CELLS_51377',\n",
       " 'METAMYELOCYTES_51378',\n",
       " 'MONOCYTES_51379',\n",
       " 'NRBC_51380',\n",
       " 'OTHER_51381',\n",
       " 'POLYS_51382',\n",
       " 'RBC, JOINT FLUID_51383',\n",
       " 'WBC, JOINT FLUID_51384',\n",
       " 'ATYPICAL LYMPHOCYTES_51385',\n",
       " 'BANDS_51386',\n",
       " 'BASOPHILS_51387',\n",
       " 'CD10_51388',\n",
       " 'CD103_51389',\n",
       " 'CD117_51390',\n",
       " 'CD11C_51391',\n",
       " 'CD13_51392',\n",
       " 'CD138_51393',\n",
       " 'CD14_51394',\n",
       " 'CD15_51395',\n",
       " 'CD16_51396',\n",
       " 'CD16/56_51397',\n",
       " 'CD19_51398',\n",
       " 'CD2_51399',\n",
       " 'CD20_51400',\n",
       " 'CD22_51401',\n",
       " 'CD23_51402',\n",
       " 'CD25_51403',\n",
       " 'CD3_51404',\n",
       " 'CD33_51405',\n",
       " 'CD34_51406',\n",
       " 'CD38_51407',\n",
       " 'CD4_51408',\n",
       " 'CD4/CD8 RATIO_51409',\n",
       " 'CD41_51410',\n",
       " 'CD45_51411',\n",
       " 'CD5_51412',\n",
       " 'CD56_51413',\n",
       " 'CD57_51414',\n",
       " 'CD64_51415',\n",
       " 'CD7_51416',\n",
       " 'CD71_51417',\n",
       " 'CD8_51418',\n",
       " 'EOSINOPHILS_51419',\n",
       " 'FMC-7_51420',\n",
       " 'GLYCO A_51421',\n",
       " 'HEMATOCRIT, OTHER FLUID_51422',\n",
       " 'HLA-DR_51423',\n",
       " 'IMMUNOPHENOTYPING_51424',\n",
       " 'KAPPA_51425',\n",
       " 'LAMBDA_51426',\n",
       " 'LYMPHOCYTES_51427',\n",
       " 'MACROPHAGE_51428',\n",
       " 'MESOTHELIAL CELLS_51429',\n",
       " 'METAMYELOCYTES_51430',\n",
       " 'MONOS_51431',\n",
       " 'MYELOCYTES_51432',\n",
       " 'NRBC_51433',\n",
       " 'OTHER CELL_51434',\n",
       " 'PLASMA_51435',\n",
       " 'POLYS_51436',\n",
       " 'PROMYELOCYTES_51437',\n",
       " 'RBC, OTHER FLUID_51438',\n",
       " 'WBC, OTHER FLUID_51439',\n",
       " 'ATYPICAL LYMPHOCYTES_51440',\n",
       " 'BANDS_51441',\n",
       " 'BASOPHILS_51442',\n",
       " 'BLASTS_51443',\n",
       " 'EOSINOPHILS_51444',\n",
       " 'HEMATOCRIT, PLEURAL_51445',\n",
       " 'LYMPHOCYTES_51446',\n",
       " 'MACROPHAGES_51447',\n",
       " 'MESOTHELIAL CELLS_51448',\n",
       " 'METAMYELOCYTES_51449',\n",
       " 'MONOS_51450',\n",
       " 'MYELOCYTES_51451',\n",
       " 'NRBC_51452',\n",
       " 'OTHER_51453',\n",
       " 'PLASMA CELLS_51454',\n",
       " 'POLYS_51455',\n",
       " 'PROMYELOCYTES_51456',\n",
       " 'RBC, PLEURAL_51457',\n",
       " 'WBC, PLEURAL_51458',\n",
       " 'YOUNG CELLS_51459',\n",
       " 'BLOOD, OCCULT_51460',\n",
       " 'AMMONIUM BIURATE_51461',\n",
       " 'AMORPHOUS CRYSTALS_51462',\n",
       " 'BACTERIA_51463',\n",
       " 'BILIRUBIN_51464',\n",
       " 'BILIRUBIN CRYSTALS_51465',\n",
       " 'BLOOD_51466',\n",
       " 'BROAD CASTS_51467',\n",
       " 'CALCIUM CARBONATE CRYSTALS_51468',\n",
       " 'CALCIUM OXALATE CRYSTALS_51469',\n",
       " 'CALCIUM PHOSPHATE CRYSTALS_51470',\n",
       " 'CELLULAR CAST_51471',\n",
       " 'CHOLESTEROL CRYSTALS_51472',\n",
       " 'SPECIMEN TYPE_50800',\n",
       " 'ALVEOLAR-ARTERIAL GRADIENT_50801',\n",
       " 'BASE EXCESS_50802',\n",
       " 'CALCULATED BICARBONATE, WHOLE BLOOD_50803',\n",
       " 'CALCULATED TOTAL CO2_50804',\n",
       " 'CARBOXYHEMOGLOBIN_50805',\n",
       " 'CHLORIDE, WHOLE BLOOD_50806',\n",
       " 'COMMENTS_50807',\n",
       " 'FREE CALCIUM_50808',\n",
       " 'GLUCOSE_50809',\n",
       " 'HEMATOCRIT, CALCULATED_50810',\n",
       " 'HEMOGLOBIN_50811',\n",
       " 'INTUBATED_50812',\n",
       " 'LACTATE_50813',\n",
       " 'METHEMOGLOBIN_50814',\n",
       " 'O2 FLOW_50815',\n",
       " 'OXYGEN_50816',\n",
       " 'OXYGEN SATURATION_50817',\n",
       " 'PCO2_50818',\n",
       " 'PEEP_50819',\n",
       " 'PH_50820',\n",
       " 'PO2_50821',\n",
       " 'POTASSIUM, WHOLE BLOOD_50822',\n",
       " 'REQUIRED O2_50823',\n",
       " 'SODIUM, WHOLE BLOOD_50824',\n",
       " 'TEMPERATURE_50825',\n",
       " 'TIDAL VOLUME_50826',\n",
       " 'VENTILATION RATE_50827',\n",
       " 'VENTILATOR_50828',\n",
       " 'FLUID TYPE_50829',\n",
       " 'PCO2, BODY FLUID_50830',\n",
       " 'PH_50831',\n",
       " 'PO2, BODY FLUID_50832',\n",
       " 'POTASSIUM_50833',\n",
       " 'SODIUM, BODY FLUID_50834',\n",
       " 'ALBUMIN, ASCITES_50835',\n",
       " 'AMYLASE, ASCITES_50836',\n",
       " 'BICARBONATE, ASCITES_50837',\n",
       " 'BILIRUBIN, TOTAL, ASCITES_50838',\n",
       " 'CHLORIDE, ASCITES_50839',\n",
       " 'CHOLESTEROL, ASCITES_50840',\n",
       " 'CREATININE, ASCITES_50841',\n",
       " 'GLUCOSE, ASCITES_50842',\n",
       " 'LACTATE DEHYDROGENASE, ASCITES_50843',\n",
       " 'LIPASE, ASCITES_50844',\n",
       " 'MISCELLANEOUS, ASCITES_50845',\n",
       " 'OSMOLALITY, ASCITES_50846',\n",
       " 'POTASSIUM, ASCITES_50847',\n",
       " 'SODIUM, ASCITES_50848',\n",
       " 'TOTAL PROTEIN, ASCITES_50849',\n",
       " 'TRIGLYCERIDES, ASCITES_50850',\n",
       " 'UREA NITROGEN, ASCITES_50851',\n",
       " '% HEMOGLOBIN A1C_50852',\n",
       " '25-OH VITAMIN D_50853',\n",
       " 'ABSOLUTE A1C_50854',\n",
       " 'ABSOLUTE HEMOGLOBIN_50855',\n",
       " 'ACETAMINOPHEN_50856',\n",
       " 'ACETONE_50857',\n",
       " 'ACID PHOSPHATASE_50858',\n",
       " 'ACID PHOSPHATASE, NON-PROSTATIC_50859',\n",
       " 'AFP, MATERNAL SCREEN_50860',\n",
       " 'ALANINE AMINOTRANSFERASE (ALT)_50861',\n",
       " 'ALKALINE PHOSPHATASE_50863',\n",
       " 'ALPHA-FETOPROTEIN_50864',\n",
       " 'AMIKACIN_50865',\n",
       " 'AMMONIA_50866',\n",
       " 'AMYLASE_50867',\n",
       " 'ANION GAP_50868',\n",
       " 'ANTI-DGP (IGA/IGG)_50869',\n",
       " 'ANTI-GLIADIN ANTIBODY, IGA_50870',\n",
       " 'ANTI-MITOCHONDRIAL ANTIBODY_50871',\n",
       " 'CD34_51178',\n",
       " 'ANTI-NEUTROPHIL CYTOPLASMIC ANTIBODY_50872',\n",
       " 'ANTI-NUCLEAR ANTIBODY_50873',\n",
       " 'ANTI-NUCLEAR ANTIBODY, TITER_50874',\n",
       " 'ANTI-PARIETAL CELL ANTIBODY_50875',\n",
       " 'ANTI-SMOOTH MUSCLE ANTIBODY_50876',\n",
       " 'ANTI-THYROGLOBULIN ANTIBODIES_50877',\n",
       " 'ASPARATE AMINOTRANSFERASE (AST)_50878',\n",
       " 'BARBITURATE SCREEN_50879',\n",
       " 'BENZODIAZEPINE SCREEN_50880',\n",
       " 'BETA-2 MICROGLOBULIN_50881',\n",
       " 'BICARBONATE_50882',\n",
       " 'BILIRUBIN, DIRECT_50883',\n",
       " 'BILIRUBIN, INDIRECT_50884',\n",
       " 'BILIRUBIN, TOTAL_50885',\n",
       " 'C-REACTIVE PROTEIN_50889',\n",
       " 'C3_50890',\n",
       " 'C4_50891',\n",
       " 'CA-125_50892',\n",
       " 'CALCIUM, TOTAL_50893',\n",
       " 'CALCULATED FREE TESTOSTERONE_50894',\n",
       " 'CALCULATED TBG_50895',\n",
       " 'CALCULATED THYROXINE (T4) INDEX_50896',\n",
       " 'CANCER ANTIGEN 27.29_50898',\n",
       " 'CARBAMAZEPINE_50899',\n",
       " 'CARCINOEMBYRONIC ANTIGEN (CEA)_50900',\n",
       " 'CENTROMERE_50901',\n",
       " 'CHLORIDE_50902',\n",
       " 'CHOLESTEROL RATIO (TOTAL/HDL)_50903',\n",
       " 'CHOLESTEROL, HDL_50904',\n",
       " 'CHOLESTEROL, LDL, CALCULATED_50905',\n",
       " 'CHOLESTEROL, LDL, MEASURED_50906',\n",
       " 'CHOLESTEROL, TOTAL_50907',\n",
       " 'CK-MB INDEX_50908',\n",
       " 'CORTISOL_50909',\n",
       " 'CREATINE KINASE (CK)_50910',\n",
       " 'CREATINE KINASE, MB ISOENZYME_50911',\n",
       " 'CREATININE_50912',\n",
       " 'CRYOGLOBULIN_50913',\n",
       " 'CYCLOSPORIN_50914',\n",
       " 'D-DIMER_50915',\n",
       " 'DHEA-SULFATE_50916',\n",
       " 'DIGOXIN_50917',\n",
       " 'DOUBLE STRANDED DNA_50918',\n",
       " 'ESTIMATED GFR (MDRD EQUATION)_50920',\n",
       " 'ESTRADIOL_50921',\n",
       " 'ETHANOL_50922',\n",
       " 'FAX_50923',\n",
       " 'FERRITIN_50924',\n",
       " 'FOLATE_50925',\n",
       " 'FOLLICLE STIMULATING HORMONE_50926',\n",
       " 'GAMMA GLUTAMYLTRANSFERASE_50927',\n",
       " 'GASTRIN_50928',\n",
       " 'GENTAMICIN_50929',\n",
       " 'GLOBULIN_50930',\n",
       " 'GLUCOSE_50931',\n",
       " 'H_50934',\n",
       " 'HAPTOGLOBIN_50935',\n",
       " 'HCG, MATERNAL SCREEN_50936',\n",
       " 'HEPATITIS A VIRUS ANTIBODY_50937',\n",
       " 'HEPATITIS A VIRUS IGM ANTIBODY_50938',\n",
       " 'HEPATITIS B CORE ANTIBODY, IGM_50939',\n",
       " 'HEPATITIS B SURFACE ANTIBODY_50940',\n",
       " 'HEPATITIS B SURFACE ANTIGEN_50941',\n",
       " 'HEPATITIS B VIRUS CORE ANTIBODY_50942',\n",
       " 'HEPATITIS C VIRUS ANTIBODY_50943',\n",
       " 'HIV ANTIBODY_50944',\n",
       " 'HOMOCYSTEINE_50945',\n",
       " 'HUMAN CHORIONIC GONADOTROPIN_50946',\n",
       " 'I_50947',\n",
       " 'IMMUNOFIXATION_50948',\n",
       " 'IMMUNOGLOBULIN A_50949',\n",
       " 'IMMUNOGLOBULIN G_50950',\n",
       " 'IMMUNOGLOBULIN M_50951',\n",
       " 'IRON_50952',\n",
       " 'IRON BINDING CAPACITY, TOTAL_50953',\n",
       " 'LACTATE DEHYDROGENASE (LD)_50954',\n",
       " 'LIPASE_50956',\n",
       " 'LITHIUM_50957',\n",
       " 'LUTEINIZING HORMONE_50958',\n",
       " 'MACRO PROLACTIN_50959',\n",
       " 'MAGNESIUM_50960',\n",
       " 'METHOTREXATE_50961',\n",
       " 'N-ACETYLPROCAINAMIDE (NAPA)_50962',\n",
       " 'NTPROBNP_50963',\n",
       " 'OSMOLALITY, MEASURED_50964',\n",
       " 'PARATHYROID HORMONE_50965',\n",
       " 'PHENOBARBITAL_50966',\n",
       " 'PHENYTOIN_50967',\n",
       " 'PHENYTOIN, FREE_50968',\n",
       " 'PHENYTOIN, PERCENT FREE_50969',\n",
       " 'PHOSPHATE_50970',\n",
       " 'POTASSIUM_50971',\n",
       " 'PROCAINAMIDE_50972',\n",
       " 'PROLACTIN_50973',\n",
       " 'CD38_51179',\n",
       " 'PROSTATE SPECIFIC ANTIGEN_50974',\n",
       " 'PROTEIN ELECTROPHORESIS_50975',\n",
       " 'PROTEIN, TOTAL_50976',\n",
       " 'QUINIDINE_50977',\n",
       " 'RAPAMYCIN_50978',\n",
       " 'RHEUMATOID FACTOR_50980',\n",
       " 'SALICYLATE_50981',\n",
       " 'SEX HORMONE BINDING GLOBULIN_50982',\n",
       " 'SODIUM_50983',\n",
       " 'STAT_50984',\n",
       " 'STUDY TUBES_50985',\n",
       " 'TACROFK_50986',\n",
       " 'TESTOSTERONE_50988',\n",
       " 'TESTOSTERONE, FREE_50989',\n",
       " 'THEOPHYLLINE_50990',\n",
       " 'THYROGLOBULIN_50991',\n",
       " 'THYROID PEROXIDASE ANTIBODIES_50992',\n",
       " 'THYROID STIMULATING HORMONE_50993',\n",
       " 'THYROXINE (T4)_50994',\n",
       " 'THYROXINE (T4), FREE_50995',\n",
       " 'TISSUE TRANSGLUTAMINASE AB, IGA_50996',\n",
       " 'TOBRAMYCIN_50997',\n",
       " 'TRANSFERRIN_50998',\n",
       " 'TRICYCLIC ANTIDEPRESSANT SCREEN_50999',\n",
       " 'TRIGLYCERIDES_51000',\n",
       " 'TRIIODOTHYRONINE (T3)_51001',\n",
       " 'TROPONIN I_51002',\n",
       " 'TROPONIN T_51003',\n",
       " 'UE3, MATERNAL SCREEN_51004',\n",
       " 'UPTAKE RATIO_51005',\n",
       " 'UREA NITROGEN_51006',\n",
       " 'URIC ACID_51007',\n",
       " 'VALPROIC ACID_51008',\n",
       " 'VANCOMYCIN_51009',\n",
       " 'VITAMIN B12_51010',\n",
       " '<ALBUMIN>_51011',\n",
       " 'BILIRUBIN, TOTAL, CSF_51012',\n",
       " 'CHLORIDE, CSF_51013',\n",
       " 'GLUCOSE, CSF_51014',\n",
       " 'LACTATE DEHYDROGENASE, CSF_51015',\n",
       " 'MISCELLANEOUS, CSF_51016',\n",
       " 'PEP, CSF_51017',\n",
       " 'TOTAL PROTEIN, CSF_51018',\n",
       " 'ALBUMIN, JOINT FLUID_51019',\n",
       " 'AMYLASE, JOINT FLUID_51020',\n",
       " 'CREATININE, JOINT FLUID_51021',\n",
       " 'GLUCOSE, JOINT FLUID_51022',\n",
       " 'LD, JOINT FLUID_51023',\n",
       " 'TOTAL PROTEIN, JOINT FLUID_51024',\n",
       " 'ALBUMIN, BODY FLUID_51025',\n",
       " 'AMYLASE, BODY FLUID_51026',\n",
       " 'BICARBONATE, OTHER FLUID_51027',\n",
       " 'BILIRUBIN, TOTAL, BODY FLUID_51028',\n",
       " 'CALCIUM, BODY FLUID_51029',\n",
       " 'CHLORIDE, BODY FLUID_51030',\n",
       " 'CHOLESTEROL, BODY FLUID_51031',\n",
       " 'CREATININE, BODY FLUID_51032',\n",
       " 'FETALFN_51033',\n",
       " 'GLUCOSE, BODY FLUID_51034',\n",
       " 'LD, BODY FLUID_51035',\n",
       " 'LIPASE, BODY FLUID_51036',\n",
       " 'MAGNESIUM, BODY FLUID_51037',\n",
       " 'MISCELLANEOUS, BODY FLUID_51038',\n",
       " 'OSMOLALITY, BODY FLUID_51039',\n",
       " 'PHOSPHATE, BODY FLUID_51040',\n",
       " 'POTASSIUM, BODY FLUID_51041',\n",
       " 'SODIUM, BODY FLUID_51042',\n",
       " 'TOTAL PROTEIN, BODY FLUID_51043',\n",
       " 'TRIGLYCER_51044',\n",
       " 'UREA NITROGEN, BODY FLUID_51045',\n",
       " 'ALBUMIN, PLEURAL_51046',\n",
       " 'AMYLASE, PLEURAL_51047',\n",
       " 'BICARBONATE, PLEURAL_51048',\n",
       " 'BILIRUBIN, TOTAL, PLEURAL_51049',\n",
       " 'CHLORIDE, PLEURAL_51050',\n",
       " 'CHOLESTEROL, PLEURAL_51051',\n",
       " 'CREATININE, PLEURAL_51052',\n",
       " 'GLUCOSE, PLEURAL_51053',\n",
       " 'LACTATE DEHYDROGENASE, PLEURAL_51054',\n",
       " 'LIPASE, PLEURAL_51055',\n",
       " 'MISCELLANEOUS, PLEURAL_51056',\n",
       " 'POTASSIUM, PLEURAL_51057',\n",
       " 'SODIUM, PLEURAL_51058',\n",
       " 'TOTAL PROTEIN, PLEURAL_51059',\n",
       " 'TRIGLYCERIDES, PLEURAL_51060',\n",
       " 'BICARBONATE, STOOL_51061',\n",
       " 'CHLORIDE, STOOL_51062',\n",
       " 'OSMOLALITY, STOOL_51063',\n",
       " 'POTASSIUM, STOOL_51064',\n",
       " 'SODIUM, STOOL_51065',\n",
       " '24 HR CALCIUM_51066',\n",
       " '24 HR CREATININE_51067',\n",
       " '24 HR PROTEIN_51068',\n",
       " 'ALBUMIN, URINE_51069',\n",
       " 'ALBUMIN/CREATININE, URINE_51070',\n",
       " 'AMPHETAMINE SCREEN, URINE_51071',\n",
       " 'AMYLASE, URINE_51072',\n",
       " 'AMYLASE/CREATININE RATIO, URINE_51073',\n",
       " 'BARBITURATE SCREEN, URINE_51074',\n",
       " 'BENZODIAZEPINE SCREEN, URINE_51075',\n",
       " 'BICARBONATE, URINE_51076',\n",
       " 'CALCIUM, URINE_51077',\n",
       " 'CHLORIDE, URINE_51078',\n",
       " 'COCAINE, URINE_51079',\n",
       " 'CREATININE CLEARANCE_51080',\n",
       " 'CREATININE, SERUM_51081',\n",
       " 'CREATININE, URINE_51082',\n",
       " 'ETHANOL, URINE_51083',\n",
       " 'GLUCOSE, URINE_51084',\n",
       " 'HCG, URINE, QUALITATIVE_51085',\n",
       " 'IMMUNOFIXATION, URINE_51086',\n",
       " 'LENGTH OF URINE COLLECTION_51087',\n",
       " 'MAGNESIUM, URINE_51088',\n",
       " 'MARIJUANA_51089',\n",
       " 'METHADONE, URINE_51090',\n",
       " 'MYOGLOBIN, URINE_51091',\n",
       " 'OPIATE SCREEN, URINE_51092',\n",
       " 'OSMOLALITY, URINE_51093',\n",
       " 'PH_51094',\n",
       " 'PHOSPHATE, URINE_51095',\n",
       " 'PORPHOBILINOGEN SCREEN_51096',\n",
       " 'POTASSIUM, URINE_51097',\n",
       " 'PROT. ELECTROPHORESIS, URINE_51098',\n",
       " 'PROTEIN/CREATININE RATIO_51099',\n",
       " 'SODIUM, URINE_51100',\n",
       " 'TOTAL COLLECTION TIME_51101',\n",
       " 'TOTAL PROTEIN, URINE_51102',\n",
       " 'UREA NITROGEN, URINE_51104',\n",
       " 'URIC ACID, URINE_51105',\n",
       " 'URINE CREATININE_51106',\n",
       " 'URINE TUBE, HELD_51107',\n",
       " 'URINE VOLUME_51108',\n",
       " 'URINE VOLUME, TOTAL_51109',\n",
       " 'ATYPICAL LYMPHOCYTES_51110',\n",
       " 'BANDS_51111',\n",
       " 'BASOPHILS_51112',\n",
       " 'BLASTS_51113',\n",
       " 'EOSINOPHILS_51114',\n",
       " 'HEMATOCRIT, ASCITES_51115',\n",
       " 'LYMPHOCYTES_51116',\n",
       " 'MACROPHAGE_51117',\n",
       " 'MESOTHELIAL CELL_51118',\n",
       " 'METAMYELOCYTES_51119',\n",
       " 'MONOCYTES_51120',\n",
       " 'MYELOCYTES_51121',\n",
       " 'NUCLEATED RBC_51122',\n",
       " 'OTHER_51123',\n",
       " 'PLASMA_51124',\n",
       " 'POLYS_51125',\n",
       " 'PROMYELOCYTES_51126',\n",
       " 'RBC, ASCITES_51127',\n",
       " 'WBC, ASCITES_51128',\n",
       " 'YOUNG_51129',\n",
       " 'ABSOLUTE CD3 COUNT_51130',\n",
       " 'ABSOLUTE CD4 COUNT_51131',\n",
       " 'ABSOLUTE CD8 COUNT_51132',\n",
       " 'ABSOLUTE LYMPHOCYTE COUNT_51133',\n",
       " 'ACANTHOCYTES_51134',\n",
       " 'ADP_51135',\n",
       " 'ALPHA ANTIPLASMIN_51136',\n",
       " 'ANISOCYTOSIS_51137',\n",
       " 'ANTICARDIOLIPIN ANTIBODY IGG_51138',\n",
       " 'ANTICARDIOLIPIN ANTIBODY IGM_51139',\n",
       " 'ANTITHROMBIN_51140',\n",
       " 'APT TEST_51141',\n",
       " 'ARACHADONIC ACID_51142',\n",
       " 'ATYPICAL LYMPHOCYTES_51143',\n",
       " 'BANDS_51144',\n",
       " 'BASOPHILIC STIPPLING_51145',\n",
       " 'BASOPHILS_51146',\n",
       " 'BITE CELLS_51147',\n",
       " 'BLASTS_51148',\n",
       " 'BLEEDING TIME_51149',\n",
       " 'BLOOD PARASITE SMEAR_51150',\n",
       " 'BURR CELLS_51151',\n",
       " 'CD10_51152',\n",
       " 'CD103_51153',\n",
       " 'CD117_51154',\n",
       " 'CD11C_51155',\n",
       " 'CD13_51156',\n",
       " 'CD138_51157',\n",
       " 'CD14_51158',\n",
       " 'CD15_51159',\n",
       " 'CD16/56_51160',\n",
       " 'CD16_51161',\n",
       " 'CD16/56 ABSOLUTE COUNT_51162',\n",
       " 'CD16/56%_51163',\n",
       " 'CD19_51164',\n",
       " 'CD19 %_51165',\n",
       " 'CD19 ABSOLUTE COUNT_51166',\n",
       " 'CD2_51167',\n",
       " 'CD20_51168',\n",
       " 'CD20 %_51169',\n",
       " 'CD20 ABSOLUTE COUNT_51170',\n",
       " 'CD22_51171',\n",
       " 'CD23_51172',\n",
       " 'CD25_51173',\n",
       " 'CD3 %_51174',\n",
       " 'CD3 ABSOLUTE COUNT_51175',\n",
       " 'CD3 CELLS, PERCENT_51176',\n",
       " 'CD33_51177',\n",
       " 'CD4 CELLS, PERCENT_51180',\n",
       " 'CD4/CD8 RATIO_51181',\n",
       " 'CD41_51182',\n",
       " 'CD45_51183',\n",
       " 'CD5_51184',\n",
       " 'CD5 %_51185',\n",
       " 'CD5 ABSOLUTE COUNT_51186',\n",
       " 'CD55_51187',\n",
       " 'CD56_51188',\n",
       " 'CD57_51189',\n",
       " 'CD59_51190',\n",
       " 'CD64_51191',\n",
       " 'CD7_51192',\n",
       " 'CD71_51193',\n",
       " 'CD8 CELLS, PERCENT_51194',\n",
       " 'COLLAGEN_51195',\n",
       " 'D-DIMER_51196',\n",
       " 'ELLIPTOCYTES_51197',\n",
       " 'ENVELOPE CELLS_51198',\n",
       " 'EOSINOPHIL COUNT_51199',\n",
       " 'EOSINOPHILS_51200',\n",
       " 'EPINEPHERINE_51201',\n",
       " 'FACTOR II_51202',\n",
       " 'FACTOR IX_51203',\n",
       " 'FACTOR V_51204',\n",
       " 'FACTOR VII_51205',\n",
       " 'FACTOR VIII_51206',\n",
       " 'FACTOR VIII INHIBITOR_51207',\n",
       " 'FACTOR X_51208',\n",
       " 'FACTOR XI_51209',\n",
       " 'FACTOR XII_51210',\n",
       " 'FACTOR XIII_51211',\n",
       " 'FETAL HEMOGLOBIN_51212',\n",
       " 'FIBRIN DEGRADATION PRODUCTS_51213',\n",
       " 'FIBRINOGEN, FUNCTIONAL_51214',\n",
       " 'FMC-7_51215',\n",
       " 'FRAGMENTED CELLS_51216',\n",
       " 'GLYCO A_51217',\n",
       " 'GRANULOCYTE COUNT_51218',\n",
       " 'H/O SMEAR_51219',\n",
       " 'HEINZ BODY PREP_51220',\n",
       " 'HEMOGLOBIN_51222',\n",
       " 'HEMOGLOBIN A2_51223',\n",
       " 'HEMOGLOBIN C_51224',\n",
       " 'HEMOGLOBIN F_51225',\n",
       " 'HEMOGLOBLIN A_51226',\n",
       " 'HEMOGLOBLIN S_51227',\n",
       " 'HEPARIN_51228',\n",
       " 'HEPARIN, LMW_51229',\n",
       " 'HLA-DR_51230',\n",
       " 'HOWELL-JOLLY BODIES_51231',\n",
       " 'HYPERSEGMENTED NEUTROPHILS_51232',\n",
       " 'HYPOCHROMIA_51233',\n",
       " 'IMMUNOPHENOTYPING_51234',\n",
       " 'INHIBITOR SCREEN_51235',\n",
       " 'INPATIENT HEMATOLOGY/ONCOLOGY SMEAR_51236',\n",
       " 'INR(PT)_51237',\n",
       " 'KAPPA_51238',\n",
       " 'LAMBDA_51239',\n",
       " 'LARGE PLATELETS_51240',\n",
       " 'LEUKOCYTE ALKALINE PHOSPHATASE_51241',\n",
       " 'LUC_51242',\n",
       " 'LUPUS ANTICOAGULANT_51243',\n",
       " 'LYMPHOCYTES_51244',\n",
       " 'LYMPHOCYTES, PERCENT_51245',\n",
       " 'MACROCYTES_51246',\n",
       " 'MACROOVALOCYTES_51247',\n",
       " 'MCH_51248',\n",
       " 'MCHC_51249',\n",
       " 'MCV_51250',\n",
       " 'METAMYELOCYTES_51251',\n",
       " 'MICROCYTES_51252',\n",
       " 'MONOCYTE COUNT_51253',\n",
       " 'MONOCYTES_51254',\n",
       " 'MYELOCYTES_51255',\n",
       " 'NEUTROPHILS_51256',\n",
       " 'NUCLEATED RED CELLS_51257',\n",
       " 'OSMOTIC FRAGILITY_51258',\n",
       " 'OTHER CELLS_51259',\n",
       " 'OVALOCYTES_51260',\n",
       " 'PAPPENHEIMER BODIES_51261',\n",
       " 'PENCIL CELLS_51262',\n",
       " 'PLASMA CELLS_51263',\n",
       " 'PLATELET CLUMPS_51264',\n",
       " 'PLATELET COUNT_51265',\n",
       " 'PLATELET SMEAR_51266',\n",
       " 'POIKILOCYTOSIS_51267',\n",
       " 'POLYCHROMASIA_51268',\n",
       " 'PROMYELOCYTES_51269',\n",
       " 'PROTEIN C, ANTIGEN_51270',\n",
       " 'PROTEIN C, FUNCTIONAL_51271',\n",
       " 'PROTEIN S, ANTIGEN_51272',\n",
       " 'PROTEIN S, FUNCTIONAL_51273',\n",
       " 'QUANTITATIVE G6PD_51276',\n",
       " 'RDW_51277',\n",
       " 'RED BLOOD CELL FRAGMENTS_51278',\n",
       " 'RED BLOOD CELLS_51279',\n",
       " 'REPTILASE TIME_51280',\n",
       " 'REPTILASE TIME CONTROL_51281',\n",
       " 'RETICULOCYTE COUNT, ABSOLUTE_51282',\n",
       " 'RETICULOCYTE COUNT, AUTOMATED_51283',\n",
       " 'RETICULOCYTE COUNT, MANUAL_51284',\n",
       " 'RETICULOCYTE, CELLULAR HEMOGLOBIN_51285',\n",
       " 'RISTOCETIN_51286',\n",
       " 'SCHISTOCYTES_51287',\n",
       " 'SEDIMENTATION RATE_51288',\n",
       " 'SERUM VISCOSITY_51289',\n",
       " 'SICKLE CELL PREPARATION_51290',\n",
       " 'SICKLE CELLS_51291',\n",
       " 'SPHEROCYTES_51292',\n",
       " 'SUGAR WATER TEST_51293',\n",
       " 'TARGET CELLS_51294',\n",
       " 'TDT_51295',\n",
       " 'TEARDROP CELLS_51296',\n",
       " 'THROMBIN_51297',\n",
       " 'VON WILLEBRAND FACTOR ACTIVITY_51298',\n",
       " 'VON WILLEBRAND FACTOR ANTIGEN_51299',\n",
       " 'WBC COUNT_51300',\n",
       " 'WHITE BLOOD CELLS_51301',\n",
       " 'YOUNG CELLS_51302',\n",
       " 'CD10_51303',\n",
       " 'CD103_51304',\n",
       " 'CD117_51305',\n",
       " 'CD11C_51306',\n",
       " 'CD13_51307',\n",
       " 'CD138_51308',\n",
       " 'CD14_51309',\n",
       " 'CD15_51310',\n",
       " 'CD16_51311',\n",
       " 'CD16/56_51312',\n",
       " 'CD19_51313',\n",
       " 'CD2_51314',\n",
       " 'CD20_51315',\n",
       " 'CD22_51316',\n",
       " 'CD23_51317',\n",
       " 'CD25_51318',\n",
       " 'CD3_51319',\n",
       " 'CD33_51320',\n",
       " 'CD34_51321',\n",
       " 'CD38_51322',\n",
       " 'CD4_51323',\n",
       " 'CD41_51324',\n",
       " 'CD45_51325',\n",
       " 'CD5_51326',\n",
       " 'CD55_51327',\n",
       " 'CD56_51328',\n",
       " 'CD57_51329',\n",
       " 'CD59_51330',\n",
       " 'CD64_51331',\n",
       " 'CD7_51332',\n",
       " 'CD71_51333',\n",
       " 'CD8_51334',\n",
       " 'FMC-7_51335',\n",
       " 'GLYCO A_51336',\n",
       " 'HLA-DR_51337',\n",
       " 'IMMUNOPHENOTYPING_51338',\n",
       " 'IRON STAIN_51339',\n",
       " 'KAPPA_51340',\n",
       " 'LAMBDA_51341',\n",
       " 'WRIGHT GIEMSA_51342',\n",
       " 'ATYPICAL LYMPHOCYTES_51343',\n",
       " 'BANDS_51344',\n",
       " 'BASOPHILS_51345',\n",
       " 'CYSTEINE CRYSTALS_51473',\n",
       " 'EOSINOPHILS_51474',\n",
       " 'EPITHELIAL CASTS_51475',\n",
       " 'EPITHELIAL CELLS_51476',\n",
       " 'FREE FAT_51477',\n",
       " 'GLUCOSE_51478',\n",
       " 'GRANULAR CASTS_51479',\n",
       " 'HEMATOCRIT_51480',\n",
       " 'HEMOSIDERIN_51481',\n",
       " 'HYALINE CASTS_51482',\n",
       " 'HYPHENATED YEAST_51483',\n",
       " 'KETONE_51484',\n",
       " 'LEUCINE CRYSTALS_51485',\n",
       " 'LEUKOCYTES_51486',\n",
       " 'NITRITE_51487',\n",
       " 'NON-SQUAMOUS EPITHELIAL CELLS_51488',\n",
       " 'NONSQUAMOUS EPITHELIAL CELL_51489',\n",
       " 'OVAL FAT BODY_51490',\n",
       " 'PH_51491',\n",
       " 'PROTEIN_51492',\n",
       " 'RBC_51493',\n",
       " 'RBC CASTS_51494',\n",
       " 'RBC CLUMPS_51495',\n",
       " 'REDUCING SUBSTANCES, URINE_51496',\n",
       " 'RENAL EPITHELIAL CELLS_51497',\n",
       " 'SPECIFIC GRAVITY_51498',\n",
       " 'SPERM_51499',\n",
       " 'SULFONAMIDES_51500',\n",
       " 'TRANSITIONAL EPITHELIAL CELLS_51501',\n",
       " 'TRICHOMONAS_51502',\n",
       " 'TRIPLE PHOSPHATE CRYSTALS_51503',\n",
       " 'TYROSINE CRYSTALS_51504',\n",
       " 'URIC ACID CRYSTALS_51505',\n",
       " 'URINE APPEARANCE_51506',\n",
       " 'URINE CASTS, OTHER_51507',\n",
       " 'URINE COLOR_51508',\n",
       " 'URINE COMMENTS_51509',\n",
       " 'URINE CRYSTALS, OTHER_51510',\n",
       " 'URINE FAT BODIES_51511',\n",
       " 'URINE MUCOUS_51512',\n",
       " 'URINE SPECIMEN TYPE_51513',\n",
       " 'UROBILINOGEN_51514',\n",
       " 'WAXY CASTS_51515',\n",
       " 'WBC_51516',\n",
       " 'WBC CASTS_51517',\n",
       " 'WBC CLUMPS_51518',\n",
       " 'YEAST_51519',\n",
       " 'ANTI-MC_51520',\n",
       " 'ACID PHOSPHATASE, PROSTATIC_51521',\n",
       " 'PG_51522',\n",
       " 'FATTY_51524',\n",
       " 'BILLED_51525',\n",
       " 'FRUCAMN+_51526',\n",
       " 'MS-DIA_51527',\n",
       " 'ESTIMATED ACTUAL GLUCOSE_51529',\n",
       " 'AF-AFP_51530',\n",
       " 'STDYURINE_51531',\n",
       " 'PLASMGN_51532',\n",
       " 'WBCP_51533',\n",
       " 'MYELOS_51534',\n",
       " 'CD55_51535',\n",
       " 'CD59_51536',\n",
       " 'TDT_51537',\n",
       " 'SURFACTANT ALBUMIN RATIO_51555',\n",
       " '\"Arterial,Blood,Pressure,diastolic_8368,8555,220051,\"',\n",
       " '\"Arterial,Blood,Pressure,mean_52,6590,6702,6927,220052,\"',\n",
       " '\"Respiratory,Rate_618,615,220210,224690,\"',\n",
       " '\"Alarms,On_1661,224641,\"',\n",
       " '\"Minute,Volume,Alarm,-,Low_1683,220292,\"',\n",
       " '\"Peak,insp.,Pressure_535,22495,\"',\n",
       " '\"PEEP,set_506,220339,\"',\n",
       " '\"Minute,Volume_448,224687,\"',\n",
       " '\"Tidal,Volume,(observed)_682,224685,\",',\n",
       " '\"Minute,Volume,Alarm,-,High_1340,1486,1580,1600,2103,2105,3101,3161,3200,3236,5563,6065,220293,\"',\n",
       " '\"Mean,Airway,Pressure_444,1672,224697,\"',\n",
       " '\"Central,Venous,Pressure_716,220074,\"',\n",
       " '\"Respiratory,Rate,(Set)_619,224688,\"',\n",
       " '\"Pulmonary,Artery,Pressure,mean_491,220061,\"',\n",
       " '\"O2,Flow_470,471,223834,\"',\n",
       " '\"Glucose,finger,stick_807,1310,1455,2338,225664,\"',\n",
       " '\"Heart,Rate,Alarm,-,Low_3450,5815,220047,\"',\n",
       " '\"Pulmonary,Artery,Pressure,systolic_492,220059,\"',\n",
       " '\"Tidal,Volume,(set)_683,224684,\"',\n",
       " '\"Pulmonary,Artery,Pressure,diastolic_8448,220060,\"',\n",
       " '\"SpO2,Desat,Limit_6719,226253,\"',\n",
       " '\"Resp,Alarm,-,High_8553,224161,\"',\n",
       " '\"Skin,Care_642,225185,\"',\n",
       " '\"Gastric Gastric Tube_40051,40067,226571,226573,226575,226576\"',\n",
       " '\"Stool Out Stool_40054,226579\"',\n",
       " '\"Urine Out Incontinent_40085,40094,226627\"',\n",
       " '\"Ultrafiltrate Ultrafiltrate_40286,226583\"',\n",
       " '\"Fecal Bag_40053,226580,227701\"',\n",
       " '\"Ostomy (output)_40289,46071,46709,226582\"',\n",
       " '\"Chest Tube #1_40048,40049,40076,42255,226588\"',\n",
       " '\"Chest Tube #2_40050,40090,41707,42256,226589\"',\n",
       " '\"Jackson Pratt #1_40071,226599\"',\n",
       " '\"OR EBL_40064,226626\"',\n",
       " '\"Pre-Admission_40060,226633\"',\n",
       " '\"TF Residual_45083,227510,227511\"',\n",
       " '\"Albumin 5%_30008,30181,220864,\"',\n",
       " '\"Fresh Frozen Plasma_30005,220970,\"',\n",
       " '\"Lorazepam (Ativan)_30141,221385,\"',\n",
       " '\"Calcium Gluconate_30023,221456,\"',\n",
       " '\"Midazolam (Versed)_45520,221668,\"',\n",
       " '\"Phenylephrine_30127,30128,221749,\"',\n",
       " '\"Furosemide (Lasix)_30123,221794,\"',\n",
       " '\"Hydralazine_42646,221828,\"',\n",
       " '\"Norepinephrine_30047,30120,221906,\"',\n",
       " '\"Magnesium Sulfate (input)_30027,222011,\"',\n",
       " '\"Nitroglycerin_30049,222056,\"',\n",
       " '\"Insulin - Regular_30100,223258,223262,\"',\n",
       " '\"Morphine Sulfate_30126,225154,\"',\n",
       " '\"Potassium Chloride (input)_30297,225166,\"',\n",
       " '\"Packed Red Blood Cells_30001,225168,\"',\n",
       " '\"Gastric Meds_30144,225799,\"',\n",
       " '\"D5 1/2NS_30014,225823,,\"',\n",
       " '\"LR_44367,225828,\"',\n",
       " '\"K Phos_40385,40863,41067,44009,45641,225834,\"',\n",
       " '\"Solution_46538,225943,\"',\n",
       " '\"Sterile Water_30065,225944,\"',\n",
       " '\"Piggyback_30063,226089,\"',\n",
       " '\"OR Crystalloid Intake_30101,226364,\"',\n",
       " '\"OR Cell Saver Intake_42830,45214,45379,46078,46599,226372,\"',\n",
       " '\"PO Intake_30056,226452,\"',\n",
       " '\"GT Flush_30059,226453,\"',\n",
       " '\"KCL (Bolus)_42623,227522,\"',\n",
       " '\"Magnesium Sulfate (Bolus)_30027,40645,43018,44088,222011,227523,227524,\"',\n",
       " '\"Aspirin_ASA325, ASA81,\"',\n",
       " '\"Bisacodyl_BISA10R, BISA5,\"',\n",
       " '\"Docusate Sodium_DOCU100,\"',\n",
       " '\"D5W_HEPBASE,\"',\n",
       " '\"Humulin-R Insulin_INHRIV, INSULIN,\"',\n",
       " '\"Potassium Chloride (medicine)_KCL40I, MICROK10\"',\n",
       " '\"Magnesium Sulfate (medicine)_MAG2PM,\"',\n",
       " '\"Metoprolol Tartrate_METO25, METO50,\"',\n",
       " '\"Sodium Chloride 0.9% Flush_NACLFLUSH, NS1000,\"',\n",
       " '\"Pantoprazole_PANT40, PANT40I,\"']"
      ]
     },
     "execution_count": 89,
     "metadata": {},
     "output_type": "execute_result"
    }
   ],
   "source": []
  },
  {
   "cell_type": "markdown",
   "metadata": {},
   "source": [
    "## LOOP DIURETICS"
   ]
  },
  {
   "cell_type": "markdown",
   "metadata": {},
   "source": [
    "### FUROSEMIDE"
   ]
  },
  {
   "cell_type": "code",
   "execution_count": 7,
   "metadata": {},
   "outputs": [],
   "source": [
    "sql = '''select distinct  formulary_drug_cd, drug ,prod_strength,dose_val_rx,dose_unit_rx from prescriptions where formulary_drug_cd LIKE 'FURO%';'''"
   ]
  },
  {
   "cell_type": "markdown",
   "metadata": {},
   "source": [
    "### TORSEMIDE"
   ]
  },
  {
   "cell_type": "code",
   "execution_count": 8,
   "metadata": {},
   "outputs": [],
   "source": [
    "sql = '''select distinct  formulary_drug_cd, drug ,prod_strength,dose_val_rx,dose_unit_rx from prescriptions where formulary_drug_cd LIKE 'TOR%';'''"
   ]
  },
  {
   "cell_type": "markdown",
   "metadata": {},
   "source": [
    "### BUMETANIDE"
   ]
  },
  {
   "cell_type": "code",
   "execution_count": 9,
   "metadata": {},
   "outputs": [],
   "source": [
    "sql = '''select distinct  formulary_drug_cd, drug ,prod_strength,dose_val_rx,dose_unit_rx from prescriptions where formulary_drug_cd LIKE 'BUM%';'''"
   ]
  },
  {
   "cell_type": "markdown",
   "metadata": {},
   "source": [
    "### ETHACRYNIC ACID"
   ]
  },
  {
   "cell_type": "code",
   "execution_count": 10,
   "metadata": {},
   "outputs": [],
   "source": [
    "sql = '''select distinct  formulary_drug_cd, drug ,prod_strength,dose_val_rx,dose_unit_rx from prescriptions where formulary_drug_cd LIKE 'ETH%';'''"
   ]
  },
  {
   "cell_type": "markdown",
   "metadata": {},
   "source": [
    "## POTASSIUM SPARING DIURETICS"
   ]
  },
  {
   "cell_type": "markdown",
   "metadata": {},
   "source": [
    "### Amiloride"
   ]
  },
  {
   "cell_type": "code",
   "execution_count": 11,
   "metadata": {},
   "outputs": [],
   "source": [
    "sql = '''select  distinct formulary_drug_cd,drug ,prod_strength,dose_val_rx,dose_unit_rx from prescriptions where formulary_drug_cd LIKE 'AMIL%';'''"
   ]
  },
  {
   "cell_type": "markdown",
   "metadata": {},
   "source": [
    "### Eplerenone (Inspra)"
   ]
  },
  {
   "cell_type": "code",
   "execution_count": 12,
   "metadata": {},
   "outputs": [],
   "source": [
    "sql = '''select  distinct formulary_drug_cd,drug ,prod_strength,dose_val_rx,dose_unit_rx from prescriptions where formulary_drug_cd LIKE 'EPL%';'''"
   ]
  },
  {
   "cell_type": "markdown",
   "metadata": {},
   "source": [
    "### Spironolactone (Aldactone, Carospir)"
   ]
  },
  {
   "cell_type": "code",
   "execution_count": 13,
   "metadata": {},
   "outputs": [],
   "source": [
    "sql = '''select distinct  formulary_drug_cd,drug ,prod_strength,dose_val_rx,dose_unit_rx from prescriptions where formulary_drug_cd LIKE 'SPIR%';'''"
   ]
  },
  {
   "cell_type": "markdown",
   "metadata": {},
   "source": [
    "### Triamterene (Dyrenium)"
   ]
  },
  {
   "cell_type": "code",
   "execution_count": 14,
   "metadata": {},
   "outputs": [],
   "source": [
    "sql = '''select distinct formulary_drug_cd,drug ,prod_strength,dose_val_rx,dose_unit_rx from prescriptions where formulary_drug_cd LIKE 'TRIA50%';'''"
   ]
  },
  {
   "cell_type": "markdown",
   "metadata": {},
   "source": [
    "## ORAL THIAZIDE"
   ]
  },
  {
   "cell_type": "markdown",
   "metadata": {},
   "source": [
    "### Chlorothiazide (Diuril)"
   ]
  },
  {
   "cell_type": "markdown",
   "metadata": {},
   "source": [
    "### Neo chlorothiazide: NEOCHL & NEOCHLORO"
   ]
  },
  {
   "cell_type": "code",
   "execution_count": 34,
   "metadata": {},
   "outputs": [],
   "source": [
    "sql = '''select distinct formulary_drug_cd,drug ,prod_strength,dose_val_rx,dose_unit_rx from prescriptions where formulary_drug_cd LIKE 'NEOCHL%'; '''"
   ]
  },
  {
   "cell_type": "markdown",
   "metadata": {},
   "source": [
    "### Chlorothiazide CHLO250 & CHL500I & CHL500I & CHL500PB"
   ]
  },
  {
   "cell_type": "code",
   "execution_count": 15,
   "metadata": {},
   "outputs": [],
   "source": [
    "sql = '''select distinct formulary_drug_cd,drug ,prod_strength,dose_val_rx,dose_unit_rx from prescriptions where (formulary_drug_cd LIKE 'CHLO250%'  OR formulary_drug_cd LIKE 'CHL500%');'''"
   ]
  },
  {
   "cell_type": "markdown",
   "metadata": {},
   "source": [
    "### Hydrochlorothiazide (Microzide)"
   ]
  },
  {
   "cell_type": "markdown",
   "metadata": {},
   "source": [
    "### hydrochlorothiazide : HCTZ25 HCTZ50"
   ]
  },
  {
   "cell_type": "code",
   "execution_count": 32,
   "metadata": {},
   "outputs": [],
   "source": [
    "sql = '''select distinct formulary_drug_cd,drug ,prod_strength,dose_val_rx,dose_unit_rx from prescriptions where formulary_drug_cd LIKE 'HCTZ%';  '''"
   ]
  },
  {
   "cell_type": "markdown",
   "metadata": {},
   "source": [
    "### Hydrochlorothiazide/Triamterene 37.5/25MG CAP : DIAZ1 (unit = CAP)"
   ]
  },
  {
   "cell_type": "code",
   "execution_count": 33,
   "metadata": {},
   "outputs": [],
   "source": [
    "sql = '''select distinct formulary_drug_cd,drug ,prod_strength,dose_val_rx,dose_unit_rx from prescriptions where formulary_drug_cd LIKE 'DIAZ1%';'''"
   ]
  },
  {
   "cell_type": "markdown",
   "metadata": {},
   "source": [
    "### Chlorthalidone"
   ]
  },
  {
   "cell_type": "code",
   "execution_count": 30,
   "metadata": {},
   "outputs": [],
   "source": [
    "sql = '''select distinct formulary_drug_cd,drug ,prod_strength,dose_val_rx,dose_unit_rx from prescriptions where formulary_drug_cd LIKE 'CHTH%';'''"
   ]
  },
  {
   "cell_type": "markdown",
   "metadata": {},
   "source": [
    "### Atenolol-Chlorthalidone"
   ]
  },
  {
   "cell_type": "code",
   "execution_count": 31,
   "metadata": {},
   "outputs": [],
   "source": [
    "sql = '''select distinct formulary_drug_cd,drug ,prod_strength,dose_val_rx,dose_unit_rx from prescriptions where drug LIKE 'Atenolol-Chlorthalidone';'''"
   ]
  },
  {
   "cell_type": "markdown",
   "metadata": {},
   "source": [
    "### Indapamide"
   ]
  },
  {
   "cell_type": "code",
   "execution_count": null,
   "metadata": {},
   "outputs": [],
   "source": [
    "sql = '''select distinct formulary_drug_cd,drug ,prod_strength,dose_val_rx,dose_unit_rx from prescriptions where formulary_drug_cd LIKE 'LOZ%';'''"
   ]
  },
  {
   "cell_type": "markdown",
   "metadata": {},
   "source": [
    "# PAINKILLER"
   ]
  },
  {
   "cell_type": "markdown",
   "metadata": {},
   "source": [
    "### Metolazone"
   ]
  },
  {
   "cell_type": "code",
   "execution_count": null,
   "metadata": {},
   "outputs": [],
   "source": [
    "sql = '''select distinct formulary_drug_cd,drug ,prod_strength,dose_val_rx,dose_unit_rx from prescriptions where LOWER(drug) LIKE 'metolazon%';'''"
   ]
  },
  {
   "cell_type": "markdown",
   "metadata": {},
   "source": [
    "### Acetaminophen"
   ]
  },
  {
   "cell_type": "code",
   "execution_count": null,
   "metadata": {},
   "outputs": [],
   "source": [
    "sql = '''select distinct formulary_drug_cd,drug ,prod_strength,dose_val_rx,dose_unit_rx from prescriptions where LOWER(drug) LIKE  'acetaminophen%' ;'''"
   ]
  },
  {
   "cell_type": "markdown",
   "metadata": {},
   "source": [
    "# NSAIDS"
   ]
  },
  {
   "cell_type": "markdown",
   "metadata": {},
   "source": [
    "### Naproxen"
   ]
  },
  {
   "cell_type": "code",
   "execution_count": 17,
   "metadata": {},
   "outputs": [],
   "source": [
    "sql = '''select distinct formulary_drug_cd,drug ,prod_strength,dose_val_rx,dose_unit_rx from prescriptions where LOWER(drug) LIKE 'naproxen%';'''"
   ]
  },
  {
   "cell_type": "markdown",
   "metadata": {},
   "source": [
    "### Ibuprofen"
   ]
  },
  {
   "cell_type": "code",
   "execution_count": 18,
   "metadata": {},
   "outputs": [],
   "source": [
    "sql = '''select distinct formulary_drug_cd,drug ,prod_strength,dose_val_rx,dose_unit_rx from prescriptions where LOWER(drug) LIKE 'ibuprofen%';'''"
   ]
  },
  {
   "cell_type": "markdown",
   "metadata": {},
   "source": [
    "### Flurbiprofen opthalmic FLUR3ES"
   ]
  },
  {
   "cell_type": "code",
   "execution_count": null,
   "metadata": {},
   "outputs": [],
   "source": [
    "sql ='''select distinct formulary_drug_cd,drug ,prod_strength,dose_val_rx,dose_unit_rx from prescriptions where formulary_drug_cd LIKE 'FLUR3ES' ;''' "
   ]
  },
  {
   "cell_type": "markdown",
   "metadata": {},
   "source": [
    "### Acetaminophen-Hydrocodone"
   ]
  },
  {
   "cell_type": "code",
   "execution_count": null,
   "metadata": {},
   "outputs": [],
   "source": [
    "sql ='''select distinct formulary_drug_cd,drug ,prod_strength,dose_val_rx,dose_unit_rx from prescriptions where LOWER(drug) LIKE 'hydrocodone-acetaminophen%';'''"
   ]
  },
  {
   "cell_type": "markdown",
   "metadata": {},
   "source": [
    "### Acetaminophen-Oxycodone"
   ]
  },
  {
   "cell_type": "code",
   "execution_count": null,
   "metadata": {},
   "outputs": [],
   "source": [
    "sql ='''select distinct formulary_drug_cd,drug ,prod_strength,dose_val_rx,dose_unit_rx from prescriptions where LOWER(drug) LIKE 'oxycodone-acetaminophen%';'''"
   ]
  },
  {
   "cell_type": "markdown",
   "metadata": {},
   "source": [
    "### Celecoxib"
   ]
  },
  {
   "cell_type": "code",
   "execution_count": 20,
   "metadata": {},
   "outputs": [],
   "source": [
    "sql ='''select distinct formulary_drug_cd,drug ,prod_strength,dose_val_rx,dose_unit_rx from prescriptions where LOWER(drug) LIKE 'celecoxib%';'''"
   ]
  },
  {
   "cell_type": "markdown",
   "metadata": {},
   "source": [
    "### Rofecoxib"
   ]
  },
  {
   "cell_type": "code",
   "execution_count": null,
   "metadata": {},
   "outputs": [],
   "source": [
    "sql ='''select distinct formulary_drug_cd,drug ,prod_strength,dose_val_rx,dose_unit_rx from prescriptions where LOWER(drug) LIKE '%rofecoxib%';'''"
   ]
  },
  {
   "cell_type": "markdown",
   "metadata": {},
   "source": [
    "### Parecoxib"
   ]
  },
  {
   "cell_type": "code",
   "execution_count": 21,
   "metadata": {},
   "outputs": [],
   "source": [
    "sql ='''select distinct formulary_drug_cd,drug ,prod_strength,dose_val_rx,dose_unit_rx from prescriptions where LOWER(drug) LIKE '%arecoxib%';'''"
   ]
  },
  {
   "cell_type": "markdown",
   "metadata": {},
   "source": [
    "### Valdecoxib"
   ]
  },
  {
   "cell_type": "code",
   "execution_count": null,
   "metadata": {},
   "outputs": [],
   "source": [
    "sql ='''select distinct formulary_drug_cd,drug ,prod_strength,dose_val_rx,dose_unit_rx from prescriptions where LOWER(drug) LIKE '%valdecoxib%';'''"
   ]
  },
  {
   "cell_type": "markdown",
   "metadata": {},
   "source": [
    "### Indomethacin"
   ]
  },
  {
   "cell_type": "code",
   "execution_count": null,
   "metadata": {},
   "outputs": [],
   "source": [
    "sql ='''select distinct formulary_drug_cd,drug ,prod_strength,dose_val_rx,dose_unit_rx from prescriptions where LOWER(drug) LIKE '%indome%';'''"
   ]
  },
  {
   "cell_type": "markdown",
   "metadata": {},
   "source": [
    "### Ketorolac"
   ]
  },
  {
   "cell_type": "code",
   "execution_count": null,
   "metadata": {},
   "outputs": [],
   "source": [
    "sql ='''select distinct formulary_drug_cd,drug ,prod_strength,dose_val_rx,dose_unit_rx from prescriptions where (formulary_drug_cd LIKE 'KETO15I' OR formulary_drug_cd LIKE 'KETR30I') ;'''"
   ]
  },
  {
   "cell_type": "markdown",
   "metadata": {},
   "source": [
    "### Ketorolac ophtalmic"
   ]
  },
  {
   "cell_type": "code",
   "execution_count": null,
   "metadata": {},
   "outputs": [],
   "source": [
    "sql ='''select distinct formulary_drug_cd,drug ,prod_strength,dose_val_rx,dose_unit_rx from prescriptions where formulary_drug_cd LIKE 'KETO.5ES' OR LOWER(drug) LIKE 'ketorolac tromethamine';'''"
   ]
  },
  {
   "cell_type": "markdown",
   "metadata": {},
   "source": [
    "### Sulindac"
   ]
  },
  {
   "cell_type": "code",
   "execution_count": null,
   "metadata": {},
   "outputs": [],
   "source": [
    "sql ='''select distinct formulary_drug_cd,drug ,prod_strength,dose_val_rx,dose_unit_rx from prescriptions where formulary_drug_cd LIKE 'SULI%';'''"
   ]
  },
  {
   "cell_type": "markdown",
   "metadata": {},
   "source": [
    "### Etodolac"
   ]
  },
  {
   "cell_type": "code",
   "execution_count": null,
   "metadata": {},
   "outputs": [],
   "source": [
    "sql ='''select distinct formulary_drug_cd,drug ,prod_strength,dose_val_rx,dose_unit_rx from prescriptions where formulary_drug_cd LIKE 'ETOD%';'''"
   ]
  },
  {
   "cell_type": "markdown",
   "metadata": {},
   "source": [
    "### Meloxicam"
   ]
  },
  {
   "cell_type": "code",
   "execution_count": 22,
   "metadata": {},
   "outputs": [],
   "source": [
    "sql ='''select distinct formulary_drug_cd,drug ,prod_strength,dose_val_rx,dose_unit_rx from prescriptions where LOWER(drug) LIKE 'meloxicam';'''"
   ]
  },
  {
   "cell_type": "markdown",
   "metadata": {},
   "source": [
    "### Piroxicam"
   ]
  },
  {
   "cell_type": "code",
   "execution_count": 23,
   "metadata": {},
   "outputs": [],
   "source": [
    "sql ='''select distinct formulary_drug_cd,drug ,prod_strength,dose_val_rx,dose_unit_rx from prescriptions where LOWER(drug) LIKE 'piroxicam';'''"
   ]
  },
  {
   "cell_type": "markdown",
   "metadata": {},
   "source": [
    "### Nabumetone"
   ]
  },
  {
   "cell_type": "code",
   "execution_count": null,
   "metadata": {},
   "outputs": [],
   "source": [
    "sql ='''select distinct formulary_drug_cd,drug ,prod_strength,dose_val_rx,dose_unit_rx from prescriptions where LOWER(drug) LIKE '%metone';'''"
   ]
  },
  {
   "cell_type": "markdown",
   "metadata": {},
   "source": [
    "### Salicylate bismuth"
   ]
  },
  {
   "cell_type": "code",
   "execution_count": 28,
   "metadata": {},
   "outputs": [],
   "source": [
    "sql ='''select distinct formulary_drug_cd,drug ,prod_strength,dose_val_rx,dose_unit_rx from prescriptions where (formulary_drug_cd LIKE 'PEPTO30' OR formulary_drug_cd LIKE 'PEPT240L' OR formulary_drug_cd LIKE 'KAOP228L') ;'''"
   ]
  },
  {
   "cell_type": "markdown",
   "metadata": {},
   "source": [
    "### Salicylate bismuth chewable"
   ]
  },
  {
   "cell_type": "code",
   "execution_count": 29,
   "metadata": {},
   "outputs": [],
   "source": [
    "sql ='''select distinct formulary_drug_cd,drug ,prod_strength,dose_val_rx,dose_unit_rx from prescriptions where formulary_drug_cd LIKE 'PEPTOBIS' ;'''"
   ]
  },
  {
   "cell_type": "markdown",
   "metadata": {},
   "source": [
    "### Choline trisalicylate"
   ]
  },
  {
   "cell_type": "code",
   "execution_count": null,
   "metadata": {},
   "outputs": [],
   "source": [
    "sql ='''select distinct formulary_drug_cd,drug ,prod_strength,dose_val_rx,dose_unit_rx from prescriptions where (formulary_drug_cd LIKE 'PEPTO30' OR formulary_drug_cd LIKE 'PEPT240L') ;'''"
   ]
  },
  {
   "cell_type": "markdown",
   "metadata": {},
   "source": [
    "# PPI"
   ]
  },
  {
   "cell_type": "code",
   "execution_count": null,
   "metadata": {},
   "outputs": [],
   "source": [
    "# aripiprazole"
   ]
  },
  {
   "cell_type": "code",
   "execution_count": 42,
   "metadata": {},
   "outputs": [],
   "source": [
    "sql = '''select distinct formulary_drug_cd,drug ,prod_strength,dose_val_rx,dose_unit_rx from prescriptions where LOWER(drug) LIKE '%aripiprazole%';'''"
   ]
  },
  {
   "cell_type": "code",
   "execution_count": 43,
   "metadata": {},
   "outputs": [],
   "source": [
    "# lanzoprazole"
   ]
  },
  {
   "cell_type": "code",
   "execution_count": 44,
   "metadata": {},
   "outputs": [],
   "source": [
    "sql = '''select distinct formulary_drug_cd,drug ,prod_strength,dose_val_rx,dose_unit_rx from prescriptions where LOWER(drug) LIKE '%lansoprazole%';'''"
   ]
  },
  {
   "cell_type": "code",
   "execution_count": 45,
   "metadata": {},
   "outputs": [],
   "source": [
    "#omeprazole"
   ]
  },
  {
   "cell_type": "code",
   "execution_count": 46,
   "metadata": {},
   "outputs": [],
   "source": [
    "sql = '''select distinct formulary_drug_cd,drug ,prod_strength,dose_val_rx,dose_unit_rx from prescriptions where LOWER(drug) LIKE '%omeprazole%';'''"
   ]
  },
  {
   "cell_type": "code",
   "execution_count": 47,
   "metadata": {},
   "outputs": [],
   "source": [
    "# pantoprazole"
   ]
  },
  {
   "cell_type": "code",
   "execution_count": 48,
   "metadata": {},
   "outputs": [],
   "source": [
    "sql = '''select distinct formulary_drug_cd,drug ,prod_strength,dose_val_rx,dose_unit_rx from prescriptions where LOWER(drug) LIKE '%pantoprazole%';'''"
   ]
  },
  {
   "cell_type": "code",
   "execution_count": 49,
   "metadata": {},
   "outputs": [],
   "source": [
    "# dexlansoprazole"
   ]
  },
  {
   "cell_type": "code",
   "execution_count": 50,
   "metadata": {},
   "outputs": [],
   "source": [
    "sql = '''select distinct formulary_drug_cd,drug ,prod_strength,dose_val_rx,dose_unit_rx from prescriptions where LOWER(drug) LIKE '%dexlansoprazole%';'''"
   ]
  },
  {
   "cell_type": "code",
   "execution_count": 51,
   "metadata": {},
   "outputs": [],
   "source": [
    "# esomeprazole"
   ]
  },
  {
   "cell_type": "code",
   "execution_count": 52,
   "metadata": {},
   "outputs": [],
   "source": [
    "sql = '''select distinct formulary_drug_cd,drug ,prod_strength,dose_val_rx,dose_unit_rx from prescriptions where LOWER(drug) LIKE '%esomeprazole%';'''"
   ]
  },
  {
   "cell_type": "code",
   "execution_count": 53,
   "metadata": {},
   "outputs": [],
   "source": [
    "# rabeprazole"
   ]
  },
  {
   "cell_type": "code",
   "execution_count": 54,
   "metadata": {},
   "outputs": [],
   "source": [
    "sql = '''select distinct formulary_drug_cd,drug ,prod_strength,dose_val_rx,dose_unit_rx from prescriptions where LOWER(drug) LIKE '%rabeprazole%';'''"
   ]
  },
  {
   "cell_type": "markdown",
   "metadata": {},
   "source": [
    "# BZD"
   ]
  },
  {
   "cell_type": "markdown",
   "metadata": {},
   "source": [
    "# Levetiracetam"
   ]
  },
  {
   "cell_type": "code",
   "execution_count": 55,
   "metadata": {},
   "outputs": [],
   "source": [
    "sql = '''select distinct formulary_drug_cd,drug ,prod_strength,dose_val_rx,dose_unit_rx from prescriptions where LOWER(drug) LIKE '%levetiracetam';'''"
   ]
  },
  {
   "cell_type": "markdown",
   "metadata": {},
   "source": [
    "# Diazepam"
   ]
  },
  {
   "cell_type": "code",
   "execution_count": 57,
   "metadata": {},
   "outputs": [],
   "source": [
    "sql = '''select distinct formulary_drug_cd,drug ,prod_strength,dose_val_rx,dose_unit_rx from prescriptions where LOWER(drug) LIKE '%diazepam';'''"
   ]
  },
  {
   "cell_type": "markdown",
   "metadata": {},
   "source": [
    "# Clonazepam"
   ]
  },
  {
   "cell_type": "code",
   "execution_count": null,
   "metadata": {},
   "outputs": [],
   "source": [
    "sql = '''select distinct formulary_drug_cd,drug ,prod_strength,dose_val_rx,dose_unit_rx from prescriptions where LOWER(drug) LIKE '%clonazepam';'''"
   ]
  },
  {
   "cell_type": "markdown",
   "metadata": {},
   "source": [
    "# Clobazam"
   ]
  },
  {
   "cell_type": "code",
   "execution_count": null,
   "metadata": {},
   "outputs": [],
   "source": [
    "sql = '''select distinct formulary_drug_cd,drug ,prod_strength,dose_val_rx,dose_unit_rx from prescriptions where LOWER(drug) LIKE '%clobazam';'''"
   ]
  },
  {
   "cell_type": "markdown",
   "metadata": {},
   "source": [
    "# Citalopram"
   ]
  },
  {
   "cell_type": "code",
   "execution_count": null,
   "metadata": {},
   "outputs": [],
   "source": [
    "sql = '''select distinct formulary_drug_cd,drug ,prod_strength,dose_val_rx,dose_unit_rx from prescriptions where LOWER(drug) LIKE '%citalopram';'''"
   ]
  },
  {
   "cell_type": "markdown",
   "metadata": {},
   "source": [
    "# Escitalopram"
   ]
  },
  {
   "cell_type": "code",
   "execution_count": null,
   "metadata": {},
   "outputs": [],
   "source": [
    "sql = '''select distinct formulary_drug_cd,drug ,prod_strength,dose_val_rx,dose_unit_rx from prescriptions where LOWER(drug) LIKE '%escitalopram';'''"
   ]
  },
  {
   "cell_type": "markdown",
   "metadata": {},
   "source": [
    "# Alprazolam"
   ]
  },
  {
   "cell_type": "code",
   "execution_count": null,
   "metadata": {},
   "outputs": [],
   "source": [
    "sql = '''select distinct formulary_drug_cd,drug ,prod_strength,dose_val_rx,dose_unit_rx from prescriptions where LOWER(drug) LIKE '%alprazolam';'''"
   ]
  },
  {
   "cell_type": "markdown",
   "metadata": {},
   "source": [
    "# Estazolam"
   ]
  },
  {
   "cell_type": "code",
   "execution_count": null,
   "metadata": {},
   "outputs": [],
   "source": [
    "sql = '''select distinct formulary_drug_cd,drug ,prod_strength,dose_val_rx,dose_unit_rx from prescriptions where LOWER(drug) LIKE '%estazolam';'''"
   ]
  },
  {
   "cell_type": "markdown",
   "metadata": {},
   "source": [
    "# ACE-I"
   ]
  },
  {
   "cell_type": "code",
   "execution_count": null,
   "metadata": {},
   "outputs": [],
   "source": [
    "select subject_id, hadm_id, formulary_drug_cd,drug ,prod_strength,dose_val_rx,dose_unit_rx from prescriptions where LOWER(drug) LIKE 'benazepril'\n",
    "union\n",
    "(select subject_id, hadm_id, formulary_drug_cd,drug ,prod_strength,dose_val_rx,dose_unit_rx from prescriptions where LOWER(drug) LIKE 'amlodipine-benazepril')\n",
    "union\n",
    "(select subject_id, hadm_id, formulary_drug_cd,drug ,prod_strength,dose_val_rx,dose_unit_rx from prescriptions where LOWER(drug) LIKE '%captopril')\n",
    "union\n",
    "(select subject_id, hadm_id, formulary_drug_cd,drug ,prod_strength,dose_val_rx,dose_unit_rx from prescriptions where LOWER(drug) LIKE 'fosinopril')\n",
    "union\n",
    "(select subject_id, hadm_id, formulary_drug_cd,drug ,prod_strength,dose_val_rx,dose_unit_rx from prescriptions where (LOWER(drug) LIKE '%lisinopril' OR LOWER(drug) LIKE '%zestril' ) order by drug)\n",
    "union\n",
    "(select subject_id, hadm_id, formulary_drug_cd,drug ,prod_strength,dose_val_rx,dose_unit_rx from prescriptions where LOWER(drug) LIKE 'moexipril')\n",
    "union\n",
    "(select subject_id, hadm_id, formulary_drug_cd,drug ,prod_strength,dose_val_rx,dose_unit_rx from prescriptions where LOWER(drug) LIKE 'monopril')\n",
    "union\n",
    "(select subject_id, hadm_id, formulary_drug_cd,drug ,prod_strength,dose_val_rx,dose_unit_rx from prescriptions where LOWER(drug) LIKE 'quinapril')\n",
    "union\n",
    "(select subject_id, hadm_id, formulary_drug_cd,drug ,prod_strength,dose_val_rx,dose_unit_rx from prescriptions where LOWER(drug) LIKE 'ramipril')\n",
    "union\n",
    "(select subject_id, hadm_id, formulary_drug_cd,drug ,prod_strength,dose_val_rx,dose_unit_rx from prescriptions where LOWER(drug) LIKE 'trandolapril')"
   ]
  },
  {
   "cell_type": "markdown",
   "metadata": {},
   "source": [
    "# Benazepril"
   ]
  },
  {
   "cell_type": "code",
   "execution_count": 61,
   "metadata": {},
   "outputs": [],
   "source": [
    "sql = '''select distinct formulary_drug_cd,drug ,prod_strength,dose_val_rx,dose_unit_rx from prescriptions where LOWER(drug) LIKE 'benazepril';'''"
   ]
  },
  {
   "cell_type": "markdown",
   "metadata": {},
   "source": [
    "## Amlodipine-benazepril"
   ]
  },
  {
   "cell_type": "code",
   "execution_count": 62,
   "metadata": {},
   "outputs": [],
   "source": [
    "sql = '''select distinct formulary_drug_cd,drug ,prod_strength,dose_val_rx,dose_unit_rx from prescriptions where LOWER(drug) LIKE 'amlodipine-benazepril';'''"
   ]
  },
  {
   "cell_type": "markdown",
   "metadata": {},
   "source": [
    "## Captopril"
   ]
  },
  {
   "cell_type": "code",
   "execution_count": 63,
   "metadata": {},
   "outputs": [],
   "source": [
    "sql = '''select distinct formulary_drug_cd,drug ,prod_strength,dose_val_rx,dose_unit_rx from prescriptions where LOWER(drug) LIKE '%captopril';'''"
   ]
  },
  {
   "cell_type": "markdown",
   "metadata": {},
   "source": [
    "## Fosinopril"
   ]
  },
  {
   "cell_type": "code",
   "execution_count": 64,
   "metadata": {},
   "outputs": [],
   "source": [
    "sql = '''select distinct formulary_drug_cd,drug ,prod_strength,dose_val_rx,dose_unit_rx from prescriptions where LOWER(drug) LIKE 'fosinopril';'''"
   ]
  },
  {
   "cell_type": "markdown",
   "metadata": {},
   "source": [
    "## Lisinopril"
   ]
  },
  {
   "cell_type": "code",
   "execution_count": 65,
   "metadata": {},
   "outputs": [],
   "source": [
    "sql = '''select distinct formulary_drug_cd,drug ,prod_strength,dose_val_rx,dose_unit_rx from prescriptions where (LOWER(drug) LIKE '%lisinopril' OR LOWER(drug) LIKE '%zestril' ) order by drug;'''"
   ]
  },
  {
   "cell_type": "markdown",
   "metadata": {},
   "source": [
    "## Moexipril"
   ]
  },
  {
   "cell_type": "code",
   "execution_count": 66,
   "metadata": {},
   "outputs": [],
   "source": [
    "sql = '''select distinct formulary_drug_cd,drug ,prod_strength,dose_val_rx,dose_unit_rx from prescriptions where LOWER(drug) LIKE 'moexipril';'''"
   ]
  },
  {
   "cell_type": "markdown",
   "metadata": {},
   "source": [
    "## Monopril"
   ]
  },
  {
   "cell_type": "code",
   "execution_count": 67,
   "metadata": {},
   "outputs": [],
   "source": [
    "sql = '''select distinct formulary_drug_cd,drug ,prod_strength,dose_val_rx,dose_unit_rx from prescriptions where LOWER(drug) LIKE 'monopril';'''"
   ]
  },
  {
   "cell_type": "markdown",
   "metadata": {},
   "source": [
    "## Quinapril"
   ]
  },
  {
   "cell_type": "code",
   "execution_count": 68,
   "metadata": {},
   "outputs": [],
   "source": [
    "sql = '''select distinct formulary_drug_cd,drug ,prod_strength,dose_val_rx,dose_unit_rx from prescriptions where LOWER(drug) LIKE 'quinapril';'''"
   ]
  },
  {
   "cell_type": "markdown",
   "metadata": {},
   "source": [
    "## Ramipril"
   ]
  },
  {
   "cell_type": "code",
   "execution_count": 69,
   "metadata": {},
   "outputs": [],
   "source": [
    "sql = '''select distinct formulary_drug_cd,drug ,prod_strength,dose_val_rx,dose_unit_rx from prescriptions where LOWER(drug) LIKE 'ramipril';'''"
   ]
  },
  {
   "cell_type": "markdown",
   "metadata": {},
   "source": [
    "## Trandolapril"
   ]
  },
  {
   "cell_type": "code",
   "execution_count": null,
   "metadata": {},
   "outputs": [],
   "source": [
    "sql = '''select distinct formulary_drug_cd,drug ,prod_strength,dose_val_rx,dose_unit_rx from prescriptions where LOWER(drug) LIKE 'trandolapril';'''"
   ]
  },
  {
   "cell_type": "markdown",
   "metadata": {},
   "source": [
    "# ARBS"
   ]
  },
  {
   "cell_type": "markdown",
   "metadata": {},
   "source": [
    "## Candesartan"
   ]
  },
  {
   "cell_type": "code",
   "execution_count": 78,
   "metadata": {},
   "outputs": [],
   "source": [
    "sql = '''select distinct formulary_drug_cd,drug ,prod_strength,dose_val_rx,dose_unit_rx from prescriptions where LOWER(drug) LIKE '%candesartan';'''"
   ]
  },
  {
   "cell_type": "markdown",
   "metadata": {},
   "source": [
    "## Valsartan"
   ]
  },
  {
   "cell_type": "code",
   "execution_count": 79,
   "metadata": {},
   "outputs": [],
   "source": [
    "sql = '''select distinct formulary_drug_cd,drug ,prod_strength,dose_val_rx,dose_unit_rx from prescriptions where LOWER(drug) LIKE '%valsartan';'''"
   ]
  },
  {
   "cell_type": "markdown",
   "metadata": {},
   "source": [
    "## Losartan"
   ]
  },
  {
   "cell_type": "code",
   "execution_count": 80,
   "metadata": {},
   "outputs": [],
   "source": [
    "sql = '''select distinct formulary_drug_cd,drug ,prod_strength,dose_val_rx,dose_unit_rx from prescriptions where LOWER(drug) LIKE '%losartan';'''"
   ]
  },
  {
   "cell_type": "markdown",
   "metadata": {},
   "source": [
    "## Irbesartan"
   ]
  },
  {
   "cell_type": "code",
   "execution_count": 81,
   "metadata": {},
   "outputs": [],
   "source": [
    "sql = '''select distinct formulary_drug_cd,drug ,prod_strength,dose_val_rx,dose_unit_rx from prescriptions where LOWER(drug) LIKE '%irbesartan';'''"
   ]
  },
  {
   "cell_type": "markdown",
   "metadata": {},
   "source": [
    "## Olmesartan"
   ]
  },
  {
   "cell_type": "code",
   "execution_count": 82,
   "metadata": {},
   "outputs": [],
   "source": [
    "sql = '''select distinct formulary_drug_cd,drug ,prod_strength,dose_val_rx,dose_unit_rx from prescriptions where LOWER(drug) LIKE '%olmesartan';'''"
   ]
  },
  {
   "cell_type": "code",
   "execution_count": null,
   "metadata": {},
   "outputs": [],
   "source": [
    "(select subject_id, hadm_id, formulary_drug_cd,drug ,prod_strength,dose_val_rx,dose_unit_rx from prescriptions where LOWER(drug) LIKE '%candesartan')\n",
    "union\n",
    "(select subject_id, hadm_id, formulary_drug_cd,drug ,prod_strength,dose_val_rx,dose_unit_rx from prescriptions where LOWER(drug) LIKE '%valsartan')\n",
    "union\n",
    "(select subject_id, hadm_id, formulary_drug_cd,drug ,prod_strength,dose_val_rx,dose_unit_rx from prescriptions where LOWER(drug) LIKE '%losartan')\n",
    "union\n",
    "(select subject_id, hadm_id, formulary_drug_cd,drug ,prod_strength,dose_val_rx,dose_unit_rx from prescriptions where LOWER(drug) LIKE '%irbesartan')\n",
    "union\n",
    "(select subject_id, hadm_id, formulary_drug_cd,drug ,prod_strength,dose_val_rx,dose_unit_rx from prescriptions where LOWER(drug) LIKE '%olmesartan')"
   ]
  },
  {
   "cell_type": "code",
   "execution_count": null,
   "metadata": {},
   "outputs": [],
   "source": []
  },
  {
   "cell_type": "code",
   "execution_count": null,
   "metadata": {},
   "outputs": [],
   "source": [
    "# Anti emetics"
   ]
  },
  {
   "cell_type": "code",
   "execution_count": null,
   "metadata": {},
   "outputs": [],
   "source": [
    "# Kytril"
   ]
  },
  {
   "cell_type": "code",
   "execution_count": null,
   "metadata": {},
   "outputs": [],
   "source": [
    "sql = '''select distinct formulary_drug_cd,drug ,prod_strength,dose_val_rx,dose_unit_rx from prescriptions where LOWER(drug) LIKE 'kytril';'''"
   ]
  },
  {
   "cell_type": "code",
   "execution_count": null,
   "metadata": {},
   "outputs": [],
   "source": [
    "#CHOLERETIC"
   ]
  },
  {
   "cell_type": "code",
   "execution_count": null,
   "metadata": {},
   "outputs": [],
   "source": [
    "# coleveselam"
   ]
  },
  {
   "cell_type": "code",
   "execution_count": null,
   "metadata": {},
   "outputs": [],
   "source": [
    "sql = '''select distinct formulary_drug_cd,drug ,prod_strength,dose_val_rx,dose_unit_rx from prescriptions where LOWER(drug) LIKE '%coleveselam';'''"
   ]
  },
  {
   "cell_type": "code",
   "execution_count": null,
   "metadata": {},
   "outputs": [],
   "source": [
    "#BB"
   ]
  },
  {
   "cell_type": "code",
   "execution_count": null,
   "metadata": {},
   "outputs": [],
   "source": []
  },
  {
   "cell_type": "code",
   "execution_count": null,
   "metadata": {},
   "outputs": [],
   "source": []
  }
 ],
 "metadata": {
  "kernelspec": {
   "display_name": "Python 3",
   "language": "python",
   "name": "python3"
  },
  "language_info": {
   "codemirror_mode": {
    "name": "ipython",
    "version": 3
   },
   "file_extension": ".py",
   "mimetype": "text/x-python",
   "name": "python",
   "nbconvert_exporter": "python",
   "pygments_lexer": "ipython3",
   "version": "3.6.9"
  }
 },
 "nbformat": 4,
 "nbformat_minor": 4
}
